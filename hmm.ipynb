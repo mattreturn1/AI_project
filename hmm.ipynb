{
 "cells": [
  {
   "metadata": {
    "ExecuteTime": {
     "end_time": "2025-05-03T07:59:56.921017Z",
     "start_time": "2025-05-03T07:59:54.585152Z"
    }
   },
   "cell_type": "code",
   "source": [
    "import pandas as pd\n",
    "import numpy as np\n",
    "from sklearn.preprocessing import StandardScaler\n",
    "from hmmlearn.hmm import GaussianHMM\n",
    "import matplotlib.pyplot as plt"
   ],
   "id": "c540d27c8858db3e",
   "outputs": [],
   "execution_count": 1
  },
  {
   "metadata": {},
   "cell_type": "code",
   "source": [
    "# Load dataset\n",
    "df = pd.read_csv('your_dataset.csv')  # Replace with your actual file\n",
    "\n",
    "# Example features (replace with your actual brain metric columns)\n",
    "features = ['feature1', 'feature2', 'feature3']\n",
    "\n",
    "# Define age bins (change if needed)\n",
    "age_bins = [(5, 8), (9, 12), (13, 16)]\n",
    "\n",
    "# Assign age bin\n",
    "def assign_bin(age):\n",
    "    for i, (low, high) in enumerate(age_bins):\n",
    "        if low <= age <= high:\n",
    "            return i\n",
    "    return None\n",
    "\n",
    "df['age_bin'] = df['age'].apply(assign_bin)\n",
    "df = df.dropna(subset=['age_bin'])\n",
    "\n",
    "# Normalize brain features\n",
    "scaler = StandardScaler()\n",
    "df[features] = scaler.fit_transform(df[features])"
   ],
   "id": "acdd7f7683dbfac3",
   "outputs": [],
   "execution_count": null
  },
  {
   "metadata": {},
   "cell_type": "code",
   "source": [
    "def generate_pseudo_sequences(df, features, age_bins, num_sequences=1000):\n",
    "    sequences = []\n",
    "    for _ in range(num_sequences):\n",
    "        seq = []\n",
    "        for bin_id in range(len(age_bins)):\n",
    "            bin_data = df[df['age_bin'] == bin_id]\n",
    "            if bin_data.empty:\n",
    "                break\n",
    "            subject = bin_data.sample(1)\n",
    "            seq.append(subject[features].values[0])\n",
    "        if len(seq) == len(age_bins):\n",
    "            sequences.append(seq)\n",
    "    return sequences\n",
    "\n",
    "# Create sequences\n",
    "sequences = generate_pseudo_sequences(df, features, age_bins, num_sequences=1000)\n",
    "\n",
    "# Stack data for HMM\n",
    "X = np.vstack(sequences)\n",
    "lengths = [len(age_bins)] * len(sequences)"
   ],
   "id": "9be203af5b28ae5a",
   "outputs": [],
   "execution_count": null
  },
  {
   "metadata": {},
   "cell_type": "code",
   "source": [
    "# Train HMM with 3 hidden states (e.g., Mild, Moderate, Severe)\n",
    "model = GaussianHMM(n_components=3, covariance_type='diag', n_iter=100, random_state=42)\n",
    "model.fit(X, lengths)"
   ],
   "id": "51cb06e979e527c7",
   "outputs": [],
   "execution_count": null
  },
  {
   "metadata": {},
   "cell_type": "code",
   "source": [
    "# Decode example sequences to show state progression\n",
    "for i, seq in enumerate(sequences[:5]):  # Show first 5 sequences\n",
    "    logprob, states = model.decode(np.array(seq))\n",
    "    print(f\"Sequence {i+1} → Predicted states: {states}\")"
   ],
   "id": "a55bc81822e45892",
   "outputs": [],
   "execution_count": null
  },
  {
   "metadata": {},
   "cell_type": "code",
   "source": [
    "# Plot average feature values for each hidden state\n",
    "for i in range(model.n_components):\n",
    "    plt.plot(model.means_[i], label=f'State {i}')\n",
    "plt.title(\"Mean Feature Values by Hidden State\")\n",
    "plt.xlabel(\"Feature Index\")\n",
    "plt.ylabel(\"Standardized Value\")\n",
    "plt.legend()\n",
    "plt.grid(True)\n",
    "plt.show()"
   ],
   "id": "fd9845bc4f225b67",
   "outputs": [],
   "execution_count": null
  }
 ],
 "metadata": {
  "kernelspec": {
   "display_name": "Python 3",
   "language": "python",
   "name": "python3"
  },
  "language_info": {
   "codemirror_mode": {
    "name": "ipython",
    "version": 2
   },
   "file_extension": ".py",
   "mimetype": "text/x-python",
   "name": "python",
   "nbconvert_exporter": "python",
   "pygments_lexer": "ipython2",
   "version": "2.7.6"
  }
 },
 "nbformat": 4,
 "nbformat_minor": 5
}
